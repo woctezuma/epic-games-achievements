{
  "nbformat": 4,
  "nbformat_minor": 0,
  "metadata": {
    "colab": {
      "name": "epic-games-achievements.ipynb",
      "provenance": [],
      "private_outputs": true,
      "collapsed_sections": []
    },
    "kernelspec": {
      "name": "python3",
      "display_name": "Python 3"
    },
    "language_info": {
      "name": "python"
    },
    "gpuClass": "standard"
  },
  "cells": [
    {
      "cell_type": "markdown",
      "source": [
        "# Epic Games Achievements\n",
        "Reference: https://github.com/woctezuma/epic-games-achievements"
      ],
      "metadata": {
        "id": "Dx1JvmPNY3wm"
      }
    },
    {
      "cell_type": "code",
      "execution_count": null,
      "metadata": {
        "id": "pnWInuAH6bSp"
      },
      "outputs": [],
      "source": [
        "%cd /content\n",
        "!git clone https://github.com/woctezuma/epic-games-ratings.git\n",
        "%cd epic-games-ratings\n",
        "%pip install -r requirements.txt"
      ]
    },
    {
      "cell_type": "code",
      "source": [
        "!python download_store_products.py"
      ],
      "metadata": {
        "id": "iFk2bP7-841x"
      },
      "execution_count": null,
      "outputs": []
    },
    {
      "cell_type": "code",
      "source": [
        "!python download_sandbox_ids.py"
      ],
      "metadata": {
        "id": "eclTR41786il"
      },
      "execution_count": null,
      "outputs": []
    },
    {
      "cell_type": "code",
      "source": [
        "%cd /content\n",
        "!git clone https://github.com/woctezuma/epic-games-achievements.git\n",
        "%cd epic-games-achievements\n",
        "%pip install -r requirements.txt"
      ],
      "metadata": {
        "id": "N9Za402VnKDE"
      },
      "execution_count": null,
      "outputs": []
    },
    {
      "cell_type": "code",
      "source": [
        "%cp /content/epic-games-ratings/data/store_data_*.json data/\n",
        "%cp /content/epic-games-ratings/data/sandbox_ids.json data/"
      ],
      "metadata": {
        "id": "3Ko9GpBbnQoM"
      },
      "execution_count": null,
      "outputs": []
    },
    {
      "cell_type": "code",
      "source": [
        "!python download_achievements.py > log.txt"
      ],
      "metadata": {
        "id": "27QKZz_tYx7s"
      },
      "execution_count": null,
      "outputs": []
    },
    {
      "cell_type": "code",
      "source": [
        "!python export_results.py"
      ],
      "metadata": {
        "id": "nKBK9IEXG9UP"
      },
      "execution_count": null,
      "outputs": []
    }
  ]
}
